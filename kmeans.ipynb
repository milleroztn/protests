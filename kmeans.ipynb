{
 "cells": [
  {
   "cell_type": "code",
   "execution_count": 15,
   "metadata": {},
   "outputs": [],
   "source": [
    "import pandas as pd\n",
    "import numpy as np\n",
    "import matplotlib.pyplot as plt\n",
    "import seaborn as sns\n",
    "from sklearn.cluster import KMeans, DBSCAN\n",
    "from sklearn.preprocessing import StandardScaler, OneHotEncoder\n",
    "from sklearn.compose import ColumnTransformer\n",
    "from sklearn.neighbors import NearestNeighbors\n",
    "from sklearn.metrics import silhouette_score\n",
    "pd.set_option('display.max_rows', 100)"
   ]
  },
  {
   "cell_type": "markdown",
   "metadata": {},
   "source": [
    "# Import Data"
   ]
  },
  {
   "cell_type": "code",
   "execution_count": 16,
   "metadata": {},
   "outputs": [
    {
     "data": {
      "text/plain": [
       "(12652, 29)"
      ]
     },
     "execution_count": 16,
     "metadata": {},
     "output_type": "execute_result"
    }
   ],
   "source": [
    "path_to_protest_data = \"./local/data/\"\n",
    "filename = \"full.csv\"\n",
    "protests = pd.read_csv(path_to_protest_data+filename)\n",
    "protests.shape"
   ]
  },
  {
   "cell_type": "code",
   "execution_count": 17,
   "metadata": {},
   "outputs": [],
   "source": [
    "features = ['region', 'libdem',\n",
    "       'HDI_Score', 'violenceStatus', 'accomodation']\n",
    "\n",
    "num_features = ['libdem',\n",
    "       'HDI_Score', 'violenceStatus', 'accomodation']"
   ]
  },
  {
   "cell_type": "markdown",
   "metadata": {},
   "source": [
    "# K means"
   ]
  },
  {
   "cell_type": "code",
   "execution_count": 18,
   "metadata": {},
   "outputs": [],
   "source": [
    "preprocessor = ColumnTransformer([\n",
    "    (\"num\", StandardScaler(), ['libdem',\n",
    "       'HDI_Score', 'violenceStatus', 'accomodation']),\n",
    "    (\"cat\", OneHotEncoder(), ['region'])\n",
    "])\n",
    "\n",
    "data_transformed = preprocessor.fit_transform(protests[features].dropna())\n"
   ]
  },
  {
   "cell_type": "code",
   "execution_count": 19,
   "metadata": {},
   "outputs": [
    {
     "data": {
      "image/png": "[encoded data removed]",
      "text/plain": [
       "<Figure size 640x480 with 1 Axes>"
      ]
     },
     "metadata": {},
     "output_type": "display_data"
    }
   ],
   "source": [
    "withins = []\n",
    "\n",
    "for k in range(1,40):\n",
    "    kmeans = KMeans(n_clusters=k)\n",
    "    kmeans.fit(data_transformed)\n",
    "    withins.append(kmeans.inertia_)\n",
    "\n",
    "plt.plot(range(1,40), withins)\n",
    "plt.xlabel('Number of Clusters (k)')\n",
    "plt.ylabel('WCSS')\n",
    "plt.show()"
   ]
  },
  {
   "cell_type": "code",
   "execution_count": 36,
   "metadata": {},
   "outputs": [],
   "source": [
    "kmeans = KMeans(n_clusters=8, random_state=37)\n",
    "clusters = kmeans.fit_predict(data_transformed)\n",
    "protests.loc[protests[features].notna().all(axis=1), 'cluster'] = clusters\n"
   ]
  },
  {
   "cell_type": "code",
   "execution_count": 37,
   "metadata": {},
   "outputs": [
    {
     "data": {
      "text/plain": [
       "0.3618796601780416"
      ]
     },
     "execution_count": 37,
     "metadata": {},
     "output_type": "execute_result"
    }
   ],
   "source": [
    "silhouette_score(data_transformed, clusters)"
   ]
  },
  {
   "cell_type": "code",
   "execution_count": 38,
   "metadata": {},
   "outputs": [
    {
     "data": {
      "text/plain": [
       "cluster\n",
       "1.0    3166\n",
       "7.0    2075\n",
       "4.0    1810\n",
       "2.0    1654\n",
       "5.0    1354\n",
       "3.0    1268\n",
       "6.0     807\n",
       "0.0     302\n",
       "Name: count, dtype: int64"
      ]
     },
     "execution_count": 38,
     "metadata": {},
     "output_type": "execute_result"
    }
   ],
   "source": [
    "protests['cluster'].value_counts()"
   ]
  },
  {
   "cell_type": "code",
   "execution_count": 39,
   "metadata": {},
   "outputs": [
    {
     "data": {
      "text/html": [
       "<div>\n",
       "<style scoped>\n",
       "    .dataframe tbody tr th:only-of-type {\n",
       "        vertical-align: middle;\n",
       "    }\n",
       "\n",
       "    .dataframe tbody tr th {\n",
       "        vertical-align: top;\n",
       "    }\n",
       "\n",
       "    .dataframe thead th {\n",
       "        text-align: right;\n",
       "    }\n",
       "</style>\n",
       "<table border=\"1\" class=\"dataframe\">\n",
       "  <thead>\n",
       "    <tr style=\"text-align: right;\">\n",
       "      <th></th>\n",
       "      <th>min</th>\n",
       "      <th>max</th>\n",
       "      <th>mean</th>\n",
       "    </tr>\n",
       "    <tr>\n",
       "      <th>cluster</th>\n",
       "      <th></th>\n",
       "      <th></th>\n",
       "      <th></th>\n",
       "    </tr>\n",
       "  </thead>\n",
       "  <tbody>\n",
       "    <tr>\n",
       "      <th>0.0</th>\n",
       "      <td>1990</td>\n",
       "      <td>2019</td>\n",
       "      <td>2005.549669</td>\n",
       "    </tr>\n",
       "    <tr>\n",
       "      <th>1.0</th>\n",
       "      <td>1990</td>\n",
       "      <td>2019</td>\n",
       "      <td>2006.554643</td>\n",
       "    </tr>\n",
       "    <tr>\n",
       "      <th>2.0</th>\n",
       "      <td>1990</td>\n",
       "      <td>2019</td>\n",
       "      <td>2007.496977</td>\n",
       "    </tr>\n",
       "    <tr>\n",
       "      <th>3.0</th>\n",
       "      <td>1990</td>\n",
       "      <td>2019</td>\n",
       "      <td>2006.657729</td>\n",
       "    </tr>\n",
       "    <tr>\n",
       "      <th>4.0</th>\n",
       "      <td>1990</td>\n",
       "      <td>2019</td>\n",
       "      <td>2006.539227</td>\n",
       "    </tr>\n",
       "    <tr>\n",
       "      <th>5.0</th>\n",
       "      <td>1990</td>\n",
       "      <td>2019</td>\n",
       "      <td>2006.889217</td>\n",
       "    </tr>\n",
       "    <tr>\n",
       "      <th>6.0</th>\n",
       "      <td>1990</td>\n",
       "      <td>2019</td>\n",
       "      <td>2006.824040</td>\n",
       "    </tr>\n",
       "    <tr>\n",
       "      <th>7.0</th>\n",
       "      <td>1990</td>\n",
       "      <td>2019</td>\n",
       "      <td>2007.191807</td>\n",
       "    </tr>\n",
       "  </tbody>\n",
       "</table>\n",
       "</div>"
      ],
      "text/plain": [
       "          min   max         mean\n",
       "cluster                         \n",
       "0.0      1990  2019  2005.549669\n",
       "1.0      1990  2019  2006.554643\n",
       "2.0      1990  2019  2007.496977\n",
       "3.0      1990  2019  2006.657729\n",
       "4.0      1990  2019  2006.539227\n",
       "5.0      1990  2019  2006.889217\n",
       "6.0      1990  2019  2006.824040\n",
       "7.0      1990  2019  2007.191807"
      ]
     },
     "execution_count": 39,
     "metadata": {},
     "output_type": "execute_result"
    }
   ],
   "source": [
    "protests.groupby('cluster')['Year'].agg(['min','max','mean'])"
   ]
  },
  {
   "cell_type": "code",
   "execution_count": 40,
   "metadata": {},
   "outputs": [
    {
     "data": {
      "text/plain": [
       "<Axes: xlabel='region', ylabel='count'>"
      ]
     },
     "execution_count": 40,
     "metadata": {},
     "output_type": "execute_result"
    },
    {
     "data": {
      "image/png": "[encoded data removed]",
      "text/plain": [
       "<Figure size 1000x400 with 1 Axes>"
      ]
     },
     "metadata": {},
     "output_type": "display_data"
    }
   ],
   "source": [
    "plt.figure(figsize=(10,4))\n",
    "sns.barplot(x='region', y='count', hue='region', data=protests['region'].value_counts().reset_index().sort_values('region'))"
   ]
  },
  {
   "cell_type": "code",
   "execution_count": 41,
   "metadata": {},
   "outputs": [
    {
     "data": {
      "text/plain": [
       "<Axes: xlabel='cluster', ylabel='count'>"
      ]
     },
     "execution_count": 41,
     "metadata": {},
     "output_type": "execute_result"
    },
    {
     "data": {
      "image/png": "[encoded data removed]",
      "text/plain": [
       "<Figure size 1000x400 with 1 Axes>"
      ]
     },
     "metadata": {},
     "output_type": "display_data"
    }
   ],
   "source": [
    "plt.figure(figsize=(10,4))\n",
    "sns.barplot(x='cluster', y='count', hue='region', data=protests.groupby('cluster')['region'].value_counts().reset_index().sort_values('region'))"
   ]
  },
  {
   "cell_type": "code",
   "execution_count": 53,
   "metadata": {},
   "outputs": [
    {
     "data": {
      "text/html": [
       "<div>\n",
       "<style scoped>\n",
       "    .dataframe tbody tr th:only-of-type {\n",
       "        vertical-align: middle;\n",
       "    }\n",
       "\n",
       "    .dataframe tbody tr th {\n",
       "        vertical-align: top;\n",
       "    }\n",
       "\n",
       "    .dataframe thead th {\n",
       "        text-align: right;\n",
       "    }\n",
       "</style>\n",
       "<table border=\"1\" class=\"dataframe\">\n",
       "  <thead>\n",
       "    <tr style=\"text-align: right;\">\n",
       "      <th>region</th>\n",
       "      <th>Africa</th>\n",
       "      <th>Asia</th>\n",
       "      <th>Central America</th>\n",
       "      <th>Europe</th>\n",
       "      <th>MENA</th>\n",
       "      <th>North America</th>\n",
       "      <th>Oceania</th>\n",
       "      <th>South America</th>\n",
       "    </tr>\n",
       "    <tr>\n",
       "      <th>cluster</th>\n",
       "      <th></th>\n",
       "      <th></th>\n",
       "      <th></th>\n",
       "      <th></th>\n",
       "      <th></th>\n",
       "      <th></th>\n",
       "      <th></th>\n",
       "      <th></th>\n",
       "    </tr>\n",
       "  </thead>\n",
       "  <tbody>\n",
       "    <tr>\n",
       "      <th>0.0</th>\n",
       "      <td>1.744953</td>\n",
       "      <td>1.045244</td>\n",
       "      <td>2.879635</td>\n",
       "      <td>0.208576</td>\n",
       "      <td>0.852371</td>\n",
       "      <td>3.222618</td>\n",
       "      <td>2.204949</td>\n",
       "      <td>0.385313</td>\n",
       "    </tr>\n",
       "    <tr>\n",
       "      <th>1.0</th>\n",
       "      <td>0.001447</td>\n",
       "      <td>0.069150</td>\n",
       "      <td>0.301266</td>\n",
       "      <td>2.454760</td>\n",
       "      <td>0.069110</td>\n",
       "      <td>0.307401</td>\n",
       "      <td>0.000000</td>\n",
       "      <td>1.470177</td>\n",
       "    </tr>\n",
       "    <tr>\n",
       "      <th>2.0</th>\n",
       "      <td>1.412952</td>\n",
       "      <td>1.314393</td>\n",
       "      <td>0.865002</td>\n",
       "      <td>0.295600</td>\n",
       "      <td>2.077693</td>\n",
       "      <td>1.073849</td>\n",
       "      <td>0.805193</td>\n",
       "      <td>1.016927</td>\n",
       "    </tr>\n",
       "    <tr>\n",
       "      <th>3.0</th>\n",
       "      <td>1.279313</td>\n",
       "      <td>1.296929</td>\n",
       "      <td>0.796464</td>\n",
       "      <td>0.733323</td>\n",
       "      <td>0.771436</td>\n",
       "      <td>0.863474</td>\n",
       "      <td>3.676075</td>\n",
       "      <td>0.917701</td>\n",
       "    </tr>\n",
       "    <tr>\n",
       "      <th>4.0</th>\n",
       "      <td>1.822832</td>\n",
       "      <td>1.648359</td>\n",
       "      <td>1.146927</td>\n",
       "      <td>0.137547</td>\n",
       "      <td>1.543074</td>\n",
       "      <td>0.940969</td>\n",
       "      <td>1.103693</td>\n",
       "      <td>0.315605</td>\n",
       "    </tr>\n",
       "    <tr>\n",
       "      <th>5.0</th>\n",
       "      <td>3.171127</td>\n",
       "      <td>0.800928</td>\n",
       "      <td>1.574627</td>\n",
       "      <td>0.000000</td>\n",
       "      <td>0.731944</td>\n",
       "      <td>0.700812</td>\n",
       "      <td>2.950789</td>\n",
       "      <td>0.000000</td>\n",
       "    </tr>\n",
       "    <tr>\n",
       "      <th>6.0</th>\n",
       "      <td>0.073818</td>\n",
       "      <td>0.025236</td>\n",
       "      <td>0.869059</td>\n",
       "      <td>2.241281</td>\n",
       "      <td>0.111643</td>\n",
       "      <td>0.844190</td>\n",
       "      <td>0.000000</td>\n",
       "      <td>1.664785</td>\n",
       "    </tr>\n",
       "    <tr>\n",
       "      <th>7.0</th>\n",
       "      <td>0.006625</td>\n",
       "      <td>2.009549</td>\n",
       "      <td>1.676433</td>\n",
       "      <td>0.585450</td>\n",
       "      <td>1.742986</td>\n",
       "      <td>2.169249</td>\n",
       "      <td>0.000000</td>\n",
       "      <td>1.315315</td>\n",
       "    </tr>\n",
       "  </tbody>\n",
       "</table>\n",
       "</div>"
      ],
      "text/plain": [
       "region     Africa      Asia  Central America    Europe      MENA  \\\n",
       "cluster                                                            \n",
       "0.0      1.744953  1.045244         2.879635  0.208576  0.852371   \n",
       "1.0      0.001447  0.069150         0.301266  2.454760  0.069110   \n",
       "2.0      1.412952  1.314393         0.865002  0.295600  2.077693   \n",
       "3.0      1.279313  1.296929         0.796464  0.733323  0.771436   \n",
       "4.0      1.822832  1.648359         1.146927  0.137547  1.543074   \n",
       "5.0      3.171127  0.800928         1.574627  0.000000  0.731944   \n",
       "6.0      0.073818  0.025236         0.869059  2.241281  0.111643   \n",
       "7.0      0.006625  2.009549         1.676433  0.585450  1.742986   \n",
       "\n",
       "region   North America   Oceania  South America  \n",
       "cluster                                          \n",
       "0.0           3.222618  2.204949       0.385313  \n",
       "1.0           0.307401  0.000000       1.470177  \n",
       "2.0           1.073849  0.805193       1.016927  \n",
       "3.0           0.863474  3.676075       0.917701  \n",
       "4.0           0.940969  1.103693       0.315605  \n",
       "5.0           0.700812  2.950789       0.000000  \n",
       "6.0           0.844190  0.000000       1.664785  \n",
       "7.0           2.169249  0.000000       1.315315  "
      ]
     },
     "execution_count": 53,
     "metadata": {},
     "output_type": "execute_result"
    }
   ],
   "source": [
    "pd.crosstab(protests['region'], protests['cluster'], normalize='columns').transpose().div(protests['region'].value_counts(normalize=True))"
   ]
  },
  {
   "cell_type": "code",
   "execution_count": 61,
   "metadata": {},
   "outputs": [
    {
     "data": {
      "text/html": [
       "<div>\n",
       "<style scoped>\n",
       "    .dataframe tbody tr th:only-of-type {\n",
       "        vertical-align: middle;\n",
       "    }\n",
       "\n",
       "    .dataframe tbody tr th {\n",
       "        vertical-align: top;\n",
       "    }\n",
       "\n",
       "    .dataframe thead th {\n",
       "        text-align: right;\n",
       "    }\n",
       "</style>\n",
       "<table border=\"1\" class=\"dataframe\">\n",
       "  <thead>\n",
       "    <tr style=\"text-align: right;\">\n",
       "      <th>cluster</th>\n",
       "      <th>0.0</th>\n",
       "      <th>1.0</th>\n",
       "      <th>2.0</th>\n",
       "      <th>3.0</th>\n",
       "      <th>4.0</th>\n",
       "      <th>5.0</th>\n",
       "      <th>6.0</th>\n",
       "      <th>7.0</th>\n",
       "    </tr>\n",
       "    <tr>\n",
       "      <th>region</th>\n",
       "      <th></th>\n",
       "      <th></th>\n",
       "      <th></th>\n",
       "      <th></th>\n",
       "      <th></th>\n",
       "      <th></th>\n",
       "      <th></th>\n",
       "      <th></th>\n",
       "    </tr>\n",
       "  </thead>\n",
       "  <tbody>\n",
       "    <tr>\n",
       "      <th>Africa</th>\n",
       "      <td>1.784984</td>\n",
       "      <td>0.001481</td>\n",
       "      <td>1.445367</td>\n",
       "      <td>1.308662</td>\n",
       "      <td>1.864650</td>\n",
       "      <td>3.243877</td>\n",
       "      <td>0.075512</td>\n",
       "      <td>0.006777</td>\n",
       "    </tr>\n",
       "    <tr>\n",
       "      <th>Asia</th>\n",
       "      <td>1.030717</td>\n",
       "      <td>0.068189</td>\n",
       "      <td>1.296126</td>\n",
       "      <td>1.278904</td>\n",
       "      <td>1.625450</td>\n",
       "      <td>0.789797</td>\n",
       "      <td>0.024885</td>\n",
       "      <td>1.981621</td>\n",
       "    </tr>\n",
       "    <tr>\n",
       "      <th>Central America</th>\n",
       "      <td>2.830472</td>\n",
       "      <td>0.296123</td>\n",
       "      <td>0.850235</td>\n",
       "      <td>0.782866</td>\n",
       "      <td>1.127346</td>\n",
       "      <td>1.547744</td>\n",
       "      <td>0.854222</td>\n",
       "      <td>1.647812</td>\n",
       "    </tr>\n",
       "    <tr>\n",
       "      <th>Europe</th>\n",
       "      <td>0.207077</td>\n",
       "      <td>2.437119</td>\n",
       "      <td>0.293476</td>\n",
       "      <td>0.728052</td>\n",
       "      <td>0.136559</td>\n",
       "      <td>0.000000</td>\n",
       "      <td>2.225174</td>\n",
       "      <td>0.581242</td>\n",
       "    </tr>\n",
       "    <tr>\n",
       "      <th>MENA</th>\n",
       "      <td>0.856108</td>\n",
       "      <td>0.069413</td>\n",
       "      <td>2.086803</td>\n",
       "      <td>0.774818</td>\n",
       "      <td>1.549840</td>\n",
       "      <td>0.735153</td>\n",
       "      <td>0.112132</td>\n",
       "      <td>1.750628</td>\n",
       "    </tr>\n",
       "    <tr>\n",
       "      <th>North America</th>\n",
       "      <td>3.167601</td>\n",
       "      <td>0.302153</td>\n",
       "      <td>1.055516</td>\n",
       "      <td>0.848732</td>\n",
       "      <td>0.924904</td>\n",
       "      <td>0.688848</td>\n",
       "      <td>0.829778</td>\n",
       "      <td>2.132215</td>\n",
       "    </tr>\n",
       "    <tr>\n",
       "      <th>Oceania</th>\n",
       "      <td>2.167306</td>\n",
       "      <td>0.000000</td>\n",
       "      <td>0.791447</td>\n",
       "      <td>3.613316</td>\n",
       "      <td>1.084850</td>\n",
       "      <td>2.900412</td>\n",
       "      <td>0.000000</td>\n",
       "      <td>0.000000</td>\n",
       "    </tr>\n",
       "    <tr>\n",
       "      <th>South America</th>\n",
       "      <td>0.390826</td>\n",
       "      <td>1.491211</td>\n",
       "      <td>1.031475</td>\n",
       "      <td>0.930831</td>\n",
       "      <td>0.320120</td>\n",
       "      <td>0.000000</td>\n",
       "      <td>1.688603</td>\n",
       "      <td>1.334132</td>\n",
       "    </tr>\n",
       "  </tbody>\n",
       "</table>\n",
       "</div>"
      ],
      "text/plain": [
       "cluster               0.0       1.0       2.0       3.0       4.0       5.0  \\\n",
       "region                                                                        \n",
       "Africa           1.784984  0.001481  1.445367  1.308662  1.864650  3.243877   \n",
       "Asia             1.030717  0.068189  1.296126  1.278904  1.625450  0.789797   \n",
       "Central America  2.830472  0.296123  0.850235  0.782866  1.127346  1.547744   \n",
       "Europe           0.207077  2.437119  0.293476  0.728052  0.136559  0.000000   \n",
       "MENA             0.856108  0.069413  2.086803  0.774818  1.549840  0.735153   \n",
       "North America    3.167601  0.302153  1.055516  0.848732  0.924904  0.688848   \n",
       "Oceania          2.167306  0.000000  0.791447  3.613316  1.084850  2.900412   \n",
       "South America    0.390826  1.491211  1.031475  0.930831  0.320120  0.000000   \n",
       "\n",
       "cluster               6.0       7.0  \n",
       "region                               \n",
       "Africa           0.075512  0.006777  \n",
       "Asia             0.024885  1.981621  \n",
       "Central America  0.854222  1.647812  \n",
       "Europe           2.225174  0.581242  \n",
       "MENA             0.112132  1.750628  \n",
       "North America    0.829778  2.132215  \n",
       "Oceania          0.000000  0.000000  \n",
       "South America    1.688603  1.334132  "
      ]
     },
     "execution_count": 61,
     "metadata": {},
     "output_type": "execute_result"
    }
   ],
   "source": [
    "pd.crosstab(protests['region'], protests['cluster'], normalize='index').div(protests['cluster'].value_counts(normalize=True))"
   ]
  },
  {
   "cell_type": "code",
   "execution_count": 44,
   "metadata": {},
   "outputs": [
    {
     "data": {
      "text/plain": [
       "<Axes: xlabel='region'>"
      ]
     },
     "execution_count": 44,
     "metadata": {},
     "output_type": "execute_result"
    },
    {
     "data": {
      "image/png": "[encoded data removed]",
      "text/plain": [
       "<Figure size 1200x500 with 1 Axes>"
      ]
     },
     "metadata": {},
     "output_type": "display_data"
    }
   ],
   "source": [
    "pd.crosstab(protests['region'], protests['cluster'], normalize='index').plot.bar(figsize=(12,5))"
   ]
  },
  {
   "cell_type": "code",
   "execution_count": 48,
   "metadata": {},
   "outputs": [
    {
     "data": {
      "text/html": [
       "<div>\n",
       "<style scoped>\n",
       "    .dataframe tbody tr th:only-of-type {\n",
       "        vertical-align: middle;\n",
       "    }\n",
       "\n",
       "    .dataframe tbody tr th {\n",
       "        vertical-align: top;\n",
       "    }\n",
       "\n",
       "    .dataframe thead th {\n",
       "        text-align: right;\n",
       "    }\n",
       "</style>\n",
       "<table border=\"1\" class=\"dataframe\">\n",
       "  <thead>\n",
       "    <tr style=\"text-align: right;\">\n",
       "      <th></th>\n",
       "      <th>libdem</th>\n",
       "      <th>HDI_Score</th>\n",
       "      <th>protesterviolence</th>\n",
       "      <th>stateviolence</th>\n",
       "      <th>accomodation</th>\n",
       "    </tr>\n",
       "    <tr>\n",
       "      <th>cluster</th>\n",
       "      <th></th>\n",
       "      <th></th>\n",
       "      <th></th>\n",
       "      <th></th>\n",
       "      <th></th>\n",
       "    </tr>\n",
       "  </thead>\n",
       "  <tbody>\n",
       "    <tr>\n",
       "      <th>0.0</th>\n",
       "      <td>4.0</td>\n",
       "      <td>3.0</td>\n",
       "      <td>7.0</td>\n",
       "      <td>2.0</td>\n",
       "      <td>4.0</td>\n",
       "    </tr>\n",
       "    <tr>\n",
       "      <th>1.0</th>\n",
       "      <td>8.0</td>\n",
       "      <td>8.0</td>\n",
       "      <td>2.5</td>\n",
       "      <td>4.0</td>\n",
       "      <td>4.0</td>\n",
       "    </tr>\n",
       "    <tr>\n",
       "      <th>2.0</th>\n",
       "      <td>1.0</td>\n",
       "      <td>4.0</td>\n",
       "      <td>2.5</td>\n",
       "      <td>7.5</td>\n",
       "      <td>4.0</td>\n",
       "    </tr>\n",
       "    <tr>\n",
       "      <th>3.0</th>\n",
       "      <td>6.0</td>\n",
       "      <td>5.0</td>\n",
       "      <td>5.0</td>\n",
       "      <td>5.0</td>\n",
       "      <td>8.0</td>\n",
       "    </tr>\n",
       "    <tr>\n",
       "      <th>4.0</th>\n",
       "      <td>2.0</td>\n",
       "      <td>2.0</td>\n",
       "      <td>7.0</td>\n",
       "      <td>7.5</td>\n",
       "      <td>4.0</td>\n",
       "    </tr>\n",
       "    <tr>\n",
       "      <th>5.0</th>\n",
       "      <td>5.0</td>\n",
       "      <td>1.0</td>\n",
       "      <td>2.5</td>\n",
       "      <td>2.0</td>\n",
       "      <td>4.0</td>\n",
       "    </tr>\n",
       "    <tr>\n",
       "      <th>6.0</th>\n",
       "      <td>7.0</td>\n",
       "      <td>7.0</td>\n",
       "      <td>7.0</td>\n",
       "      <td>6.0</td>\n",
       "      <td>4.0</td>\n",
       "    </tr>\n",
       "    <tr>\n",
       "      <th>7.0</th>\n",
       "      <td>3.0</td>\n",
       "      <td>6.0</td>\n",
       "      <td>2.5</td>\n",
       "      <td>2.0</td>\n",
       "      <td>4.0</td>\n",
       "    </tr>\n",
       "  </tbody>\n",
       "</table>\n",
       "</div>"
      ],
      "text/plain": [
       "         libdem  HDI_Score  protesterviolence  stateviolence  accomodation\n",
       "cluster                                                                   \n",
       "0.0         4.0        3.0                7.0            2.0           4.0\n",
       "1.0         8.0        8.0                2.5            4.0           4.0\n",
       "2.0         1.0        4.0                2.5            7.5           4.0\n",
       "3.0         6.0        5.0                5.0            5.0           8.0\n",
       "4.0         2.0        2.0                7.0            7.5           4.0\n",
       "5.0         5.0        1.0                2.5            2.0           4.0\n",
       "6.0         7.0        7.0                7.0            6.0           4.0\n",
       "7.0         3.0        6.0                2.5            2.0           4.0"
      ]
     },
     "execution_count": 48,
     "metadata": {},
     "output_type": "execute_result"
    }
   ],
   "source": [
    "protests.groupby('cluster')[num_features].mean().rank()"
   ]
  },
  {
   "cell_type": "code",
   "execution_count": 46,
   "metadata": {},
   "outputs": [
    {
     "data": {
      "text/html": [
       "<div>\n",
       "<style scoped>\n",
       "    .dataframe tbody tr th:only-of-type {\n",
       "        vertical-align: middle;\n",
       "    }\n",
       "\n",
       "    .dataframe tbody tr th {\n",
       "        vertical-align: top;\n",
       "    }\n",
       "\n",
       "    .dataframe thead th {\n",
       "        text-align: right;\n",
       "    }\n",
       "</style>\n",
       "<table border=\"1\" class=\"dataframe\">\n",
       "  <thead>\n",
       "    <tr style=\"text-align: right;\">\n",
       "      <th></th>\n",
       "      <th>violenceStatus</th>\n",
       "      <th>accomodation</th>\n",
       "    </tr>\n",
       "    <tr>\n",
       "      <th>cluster</th>\n",
       "      <th></th>\n",
       "      <th></th>\n",
       "    </tr>\n",
       "  </thead>\n",
       "  <tbody>\n",
       "    <tr>\n",
       "      <th>0.0</th>\n",
       "      <td>1.000000</td>\n",
       "      <td>0.0</td>\n",
       "    </tr>\n",
       "    <tr>\n",
       "      <th>1.0</th>\n",
       "      <td>0.124447</td>\n",
       "      <td>0.0</td>\n",
       "    </tr>\n",
       "    <tr>\n",
       "      <th>2.0</th>\n",
       "      <td>1.000000</td>\n",
       "      <td>0.0</td>\n",
       "    </tr>\n",
       "    <tr>\n",
       "      <th>3.0</th>\n",
       "      <td>0.393533</td>\n",
       "      <td>1.0</td>\n",
       "    </tr>\n",
       "    <tr>\n",
       "      <th>4.0</th>\n",
       "      <td>1.000000</td>\n",
       "      <td>0.0</td>\n",
       "    </tr>\n",
       "    <tr>\n",
       "      <th>5.0</th>\n",
       "      <td>0.000000</td>\n",
       "      <td>0.0</td>\n",
       "    </tr>\n",
       "    <tr>\n",
       "      <th>6.0</th>\n",
       "      <td>1.000000</td>\n",
       "      <td>0.0</td>\n",
       "    </tr>\n",
       "    <tr>\n",
       "      <th>7.0</th>\n",
       "      <td>0.000000</td>\n",
       "      <td>0.0</td>\n",
       "    </tr>\n",
       "  </tbody>\n",
       "</table>\n",
       "</div>"
      ],
      "text/plain": [
       "         violenceStatus  accomodation\n",
       "cluster                              \n",
       "0.0            1.000000           0.0\n",
       "1.0            0.124447           0.0\n",
       "2.0            1.000000           0.0\n",
       "3.0            0.393533           1.0\n",
       "4.0            1.000000           0.0\n",
       "5.0            0.000000           0.0\n",
       "6.0            1.000000           0.0\n",
       "7.0            0.000000           0.0"
      ]
     },
     "execution_count": 46,
     "metadata": {},
     "output_type": "execute_result"
    }
   ],
   "source": [
    "protests.groupby('cluster')[['violenceStatus','accomodation']].mean()"
   ]
  },
  {
   "cell_type": "markdown",
   "metadata": {},
   "source": [
    "# K Means- Separate Violence"
   ]
  },
  {
   "cell_type": "code",
   "execution_count": 62,
   "metadata": {},
   "outputs": [],
   "source": [
    "features = ['region', 'libdem',\n",
    "       'HDI_Score', 'protesterviolence','stateviolence', 'accomodation']\n",
    "\n",
    "num_features = ['libdem',\n",
    "       'HDI_Score', 'protesterviolence','stateviolence', 'accomodation']\n",
    "\n",
    "preprocessor = ColumnTransformer([\n",
    "    (\"num\", StandardScaler(), ['libdem',\n",
    "       'HDI_Score', 'protesterviolence','stateviolence', 'accomodation']),\n",
    "    (\"cat\", OneHotEncoder(), ['region'])\n",
    "])\n",
    "\n",
    "data_transformed = preprocessor.fit_transform(protests[features].dropna())"
   ]
  },
  {
   "cell_type": "code",
   "execution_count": 63,
   "metadata": {},
   "outputs": [
    {
     "data": {
      "image/png": "[encoded data removed]",
      "text/plain": [
       "<Figure size 640x480 with 1 Axes>"
      ]
     },
     "metadata": {},
     "output_type": "display_data"
    }
   ],
   "source": [
    "withins = []\n",
    "\n",
    "for k in range(1,40):\n",
    "    kmeans = KMeans(n_clusters=k)\n",
    "    kmeans.fit(data_transformed)\n",
    "    withins.append(kmeans.inertia_)\n",
    "\n",
    "plt.plot(range(1,40), withins)\n",
    "plt.xlabel('Number of Clusters (k)')\n",
    "plt.ylabel('WCSS')\n",
    "plt.show()\n"
   ]
  },
  {
   "cell_type": "code",
   "execution_count": 64,
   "metadata": {},
   "outputs": [],
   "source": [
    "kmeans = KMeans(n_clusters=6, random_state=34)\n",
    "clusters = kmeans.fit_predict(data_transformed)\n",
    "protests.loc[protests[features].notna().all(axis=1), 'cluster2'] = clusters"
   ]
  },
  {
   "cell_type": "code",
   "execution_count": 65,
   "metadata": {},
   "outputs": [
    {
     "data": {
      "text/plain": [
       "0.379749086719726"
      ]
     },
     "execution_count": 65,
     "metadata": {},
     "output_type": "execute_result"
    }
   ],
   "source": [
    "silhouette_score(data_transformed, clusters)"
   ]
  },
  {
   "cell_type": "code",
   "execution_count": 71,
   "metadata": {},
   "outputs": [
    {
     "data": {
      "text/plain": [
       "cluster2\n",
       "4.0    3393\n",
       "3.0    2808\n",
       "2.0    2134\n",
       "1.0    1604\n",
       "5.0    1268\n",
       "0.0    1229\n",
       "Name: count, dtype: int64"
      ]
     },
     "execution_count": 71,
     "metadata": {},
     "output_type": "execute_result"
    }
   ],
   "source": [
    "protests['cluster2'].value_counts()"
   ]
  },
  {
   "cell_type": "code",
   "execution_count": 11,
   "metadata": {},
   "outputs": [
    {
     "data": {
      "text/html": [
       "<div>\n",
       "<style scoped>\n",
       "    .dataframe tbody tr th:only-of-type {\n",
       "        vertical-align: middle;\n",
       "    }\n",
       "\n",
       "    .dataframe tbody tr th {\n",
       "        vertical-align: top;\n",
       "    }\n",
       "\n",
       "    .dataframe thead th {\n",
       "        text-align: right;\n",
       "    }\n",
       "</style>\n",
       "<table border=\"1\" class=\"dataframe\">\n",
       "  <thead>\n",
       "    <tr style=\"text-align: right;\">\n",
       "      <th></th>\n",
       "      <th>protesterviolence</th>\n",
       "      <th>stateviolence</th>\n",
       "      <th>violenceStatus</th>\n",
       "      <th>accomodation</th>\n",
       "    </tr>\n",
       "    <tr>\n",
       "      <th>cluster2</th>\n",
       "      <th></th>\n",
       "      <th></th>\n",
       "      <th></th>\n",
       "      <th></th>\n",
       "    </tr>\n",
       "  </thead>\n",
       "  <tbody>\n",
       "    <tr>\n",
       "      <th>0.0</th>\n",
       "      <td>0.701258</td>\n",
       "      <td>0.904874</td>\n",
       "      <td>1.000000</td>\n",
       "      <td>0.0</td>\n",
       "    </tr>\n",
       "    <tr>\n",
       "      <th>1.0</th>\n",
       "      <td>0.517928</td>\n",
       "      <td>0.960558</td>\n",
       "      <td>1.000000</td>\n",
       "      <td>0.0</td>\n",
       "    </tr>\n",
       "    <tr>\n",
       "      <th>2.0</th>\n",
       "      <td>0.165105</td>\n",
       "      <td>0.259306</td>\n",
       "      <td>0.281084</td>\n",
       "      <td>0.0</td>\n",
       "    </tr>\n",
       "    <tr>\n",
       "      <th>3.0</th>\n",
       "      <td>0.234343</td>\n",
       "      <td>0.246465</td>\n",
       "      <td>0.305051</td>\n",
       "      <td>1.0</td>\n",
       "    </tr>\n",
       "    <tr>\n",
       "      <th>4.0</th>\n",
       "      <td>0.021821</td>\n",
       "      <td>0.000000</td>\n",
       "      <td>0.021821</td>\n",
       "      <td>0.0</td>\n",
       "    </tr>\n",
       "    <tr>\n",
       "      <th>5.0</th>\n",
       "      <td>0.305304</td>\n",
       "      <td>0.382924</td>\n",
       "      <td>0.450194</td>\n",
       "      <td>1.0</td>\n",
       "    </tr>\n",
       "  </tbody>\n",
       "</table>\n",
       "</div>"
      ],
      "text/plain": [
       "          protesterviolence  stateviolence  violenceStatus  accomodation\n",
       "cluster2                                                                \n",
       "0.0                0.701258       0.904874        1.000000           0.0\n",
       "1.0                0.517928       0.960558        1.000000           0.0\n",
       "2.0                0.165105       0.259306        0.281084           0.0\n",
       "3.0                0.234343       0.246465        0.305051           1.0\n",
       "4.0                0.021821       0.000000        0.021821           0.0\n",
       "5.0                0.305304       0.382924        0.450194           1.0"
      ]
     },
     "execution_count": 11,
     "metadata": {},
     "output_type": "execute_result"
    }
   ],
   "source": [
    "protests.groupby('cluster2')[['protesterviolence','stateviolence','violenceStatus','accomodation']].mean()"
   ]
  },
  {
   "cell_type": "code",
   "execution_count": 12,
   "metadata": {},
   "outputs": [
    {
     "data": {
      "text/html": [
       "<div>\n",
       "<style scoped>\n",
       "    .dataframe tbody tr th:only-of-type {\n",
       "        vertical-align: middle;\n",
       "    }\n",
       "\n",
       "    .dataframe tbody tr th {\n",
       "        vertical-align: top;\n",
       "    }\n",
       "\n",
       "    .dataframe thead th {\n",
       "        text-align: right;\n",
       "    }\n",
       "</style>\n",
       "<table border=\"1\" class=\"dataframe\">\n",
       "  <thead>\n",
       "    <tr style=\"text-align: right;\">\n",
       "      <th></th>\n",
       "      <th>protesterviolence</th>\n",
       "      <th>stateviolence</th>\n",
       "      <th>accomodation</th>\n",
       "    </tr>\n",
       "    <tr>\n",
       "      <th>cluster2</th>\n",
       "      <th></th>\n",
       "      <th></th>\n",
       "      <th></th>\n",
       "    </tr>\n",
       "  </thead>\n",
       "  <tbody>\n",
       "    <tr>\n",
       "      <th>0.0</th>\n",
       "      <td>6.0</td>\n",
       "      <td>5.0</td>\n",
       "      <td>2.5</td>\n",
       "    </tr>\n",
       "    <tr>\n",
       "      <th>1.0</th>\n",
       "      <td>5.0</td>\n",
       "      <td>6.0</td>\n",
       "      <td>2.5</td>\n",
       "    </tr>\n",
       "    <tr>\n",
       "      <th>2.0</th>\n",
       "      <td>2.0</td>\n",
       "      <td>3.0</td>\n",
       "      <td>2.5</td>\n",
       "    </tr>\n",
       "    <tr>\n",
       "      <th>3.0</th>\n",
       "      <td>3.0</td>\n",
       "      <td>2.0</td>\n",
       "      <td>5.5</td>\n",
       "    </tr>\n",
       "    <tr>\n",
       "      <th>4.0</th>\n",
       "      <td>1.0</td>\n",
       "      <td>1.0</td>\n",
       "      <td>2.5</td>\n",
       "    </tr>\n",
       "    <tr>\n",
       "      <th>5.0</th>\n",
       "      <td>4.0</td>\n",
       "      <td>4.0</td>\n",
       "      <td>5.5</td>\n",
       "    </tr>\n",
       "  </tbody>\n",
       "</table>\n",
       "</div>"
      ],
      "text/plain": [
       "          protesterviolence  stateviolence  accomodation\n",
       "cluster2                                                \n",
       "0.0                     6.0            5.0           2.5\n",
       "1.0                     5.0            6.0           2.5\n",
       "2.0                     2.0            3.0           2.5\n",
       "3.0                     3.0            2.0           5.5\n",
       "4.0                     1.0            1.0           2.5\n",
       "5.0                     4.0            4.0           5.5"
      ]
     },
     "execution_count": 12,
     "metadata": {},
     "output_type": "execute_result"
    }
   ],
   "source": [
    "protests.groupby('cluster2')[['protesterviolence','stateviolence','accomodation']].mean().rank()"
   ]
  },
  {
   "cell_type": "code",
   "execution_count": 236,
   "metadata": {},
   "outputs": [
    {
     "data": {
      "text/html": [
       "<div>\n",
       "<style scoped>\n",
       "    .dataframe tbody tr th:only-of-type {\n",
       "        vertical-align: middle;\n",
       "    }\n",
       "\n",
       "    .dataframe tbody tr th {\n",
       "        vertical-align: top;\n",
       "    }\n",
       "\n",
       "    .dataframe thead th {\n",
       "        text-align: right;\n",
       "    }\n",
       "</style>\n",
       "<table border=\"1\" class=\"dataframe\">\n",
       "  <thead>\n",
       "    <tr style=\"text-align: right;\">\n",
       "      <th></th>\n",
       "      <th>peaceful</th>\n",
       "      <th>violent protests</th>\n",
       "      <th>met with violence</th>\n",
       "      <th>state violence only</th>\n",
       "    </tr>\n",
       "  </thead>\n",
       "  <tbody>\n",
       "    <tr>\n",
       "      <th>0</th>\n",
       "      <td>2.0</td>\n",
       "      <td>6.0</td>\n",
       "      <td>4.0</td>\n",
       "      <td>5.0</td>\n",
       "    </tr>\n",
       "    <tr>\n",
       "      <th>1</th>\n",
       "      <td>2.0</td>\n",
       "      <td>5.0</td>\n",
       "      <td>6.0</td>\n",
       "      <td>6.0</td>\n",
       "    </tr>\n",
       "    <tr>\n",
       "      <th>2</th>\n",
       "      <td>5.0</td>\n",
       "      <td>2.0</td>\n",
       "      <td>5.0</td>\n",
       "      <td>3.0</td>\n",
       "    </tr>\n",
       "    <tr>\n",
       "      <th>3</th>\n",
       "      <td>4.0</td>\n",
       "      <td>3.0</td>\n",
       "      <td>2.0</td>\n",
       "      <td>2.0</td>\n",
       "    </tr>\n",
       "    <tr>\n",
       "      <th>4</th>\n",
       "      <td>6.0</td>\n",
       "      <td>1.0</td>\n",
       "      <td>1.0</td>\n",
       "      <td>1.0</td>\n",
       "    </tr>\n",
       "    <tr>\n",
       "      <th>5</th>\n",
       "      <td>3.0</td>\n",
       "      <td>4.0</td>\n",
       "      <td>3.0</td>\n",
       "      <td>4.0</td>\n",
       "    </tr>\n",
       "  </tbody>\n",
       "</table>\n",
       "</div>"
      ],
      "text/plain": [
       "   peaceful  violent protests  met with violence  state violence only\n",
       "0       2.0               6.0                4.0                  5.0\n",
       "1       2.0               5.0                6.0                  6.0\n",
       "2       5.0               2.0                5.0                  3.0\n",
       "3       4.0               3.0                2.0                  2.0\n",
       "4       6.0               1.0                1.0                  1.0\n",
       "5       3.0               4.0                3.0                  4.0"
      ]
     },
     "execution_count": 236,
     "metadata": {},
     "output_type": "execute_result"
    }
   ],
   "source": [
    "violence = pd.DataFrame({group: \n",
    " {'peaceful': round((1-protests.loc[protests['cluster2']==group, 'violenceStatus'].sum()/(protests['cluster2']==group).sum()),2),\n",
    " 'violent protests': round(protests.loc[protests['cluster2']==group, 'protesterviolence'].sum()/(protests['cluster2']==group).sum(),2),\n",
    " 'met with violence': round(protests.loc[(protests['cluster2']==group) & (protests['protesterviolence']), 'stateviolence'].sum()/((protests['cluster2']==group) & (protests['protesterviolence'])).sum(),2),\n",
    " 'state violence only': round(protests.loc[(protests['cluster2']==group) & (protests['protesterviolence']==0), 'stateviolence'].sum()/(protests['cluster2']==group).sum(),2)\n",
    " }\n",
    "for group in range(6)}).transpose()\n",
    "\n",
    "violence.rank(method='max')"
   ]
  },
  {
   "cell_type": "code",
   "execution_count": 13,
   "metadata": {},
   "outputs": [
    {
     "data": {
      "text/html": [
       "<div>\n",
       "<style scoped>\n",
       "    .dataframe tbody tr th:only-of-type {\n",
       "        vertical-align: middle;\n",
       "    }\n",
       "\n",
       "    .dataframe tbody tr th {\n",
       "        vertical-align: top;\n",
       "    }\n",
       "\n",
       "    .dataframe thead th {\n",
       "        text-align: right;\n",
       "    }\n",
       "</style>\n",
       "<table border=\"1\" class=\"dataframe\">\n",
       "  <thead>\n",
       "    <tr style=\"text-align: right;\">\n",
       "      <th></th>\n",
       "      <th>Electoral_Score</th>\n",
       "      <th>Liberal_Score</th>\n",
       "      <th>Participatory_Score</th>\n",
       "      <th>Deliberative_Score</th>\n",
       "      <th>Egalitarian_Score</th>\n",
       "      <th>HDI_Score</th>\n",
       "      <th>protesterviolence</th>\n",
       "      <th>stateviolence</th>\n",
       "      <th>accomodation</th>\n",
       "    </tr>\n",
       "    <tr>\n",
       "      <th>cluster2</th>\n",
       "      <th></th>\n",
       "      <th></th>\n",
       "      <th></th>\n",
       "      <th></th>\n",
       "      <th></th>\n",
       "      <th></th>\n",
       "      <th></th>\n",
       "      <th></th>\n",
       "      <th></th>\n",
       "    </tr>\n",
       "  </thead>\n",
       "  <tbody>\n",
       "    <tr>\n",
       "      <th>0.0</th>\n",
       "      <td>4.0</td>\n",
       "      <td>4.0</td>\n",
       "      <td>4.0</td>\n",
       "      <td>4.0</td>\n",
       "      <td>4.0</td>\n",
       "      <td>3.0</td>\n",
       "      <td>6.0</td>\n",
       "      <td>5.0</td>\n",
       "      <td>2.5</td>\n",
       "    </tr>\n",
       "    <tr>\n",
       "      <th>1.0</th>\n",
       "      <td>1.0</td>\n",
       "      <td>1.0</td>\n",
       "      <td>1.0</td>\n",
       "      <td>1.0</td>\n",
       "      <td>1.0</td>\n",
       "      <td>1.0</td>\n",
       "      <td>5.0</td>\n",
       "      <td>6.0</td>\n",
       "      <td>2.5</td>\n",
       "    </tr>\n",
       "    <tr>\n",
       "      <th>2.0</th>\n",
       "      <td>6.0</td>\n",
       "      <td>6.0</td>\n",
       "      <td>6.0</td>\n",
       "      <td>6.0</td>\n",
       "      <td>6.0</td>\n",
       "      <td>6.0</td>\n",
       "      <td>2.0</td>\n",
       "      <td>3.0</td>\n",
       "      <td>2.5</td>\n",
       "    </tr>\n",
       "    <tr>\n",
       "      <th>3.0</th>\n",
       "      <td>5.0</td>\n",
       "      <td>5.0</td>\n",
       "      <td>5.0</td>\n",
       "      <td>5.0</td>\n",
       "      <td>5.0</td>\n",
       "      <td>5.0</td>\n",
       "      <td>3.0</td>\n",
       "      <td>2.0</td>\n",
       "      <td>5.5</td>\n",
       "    </tr>\n",
       "    <tr>\n",
       "      <th>4.0</th>\n",
       "      <td>3.0</td>\n",
       "      <td>3.0</td>\n",
       "      <td>3.0</td>\n",
       "      <td>3.0</td>\n",
       "      <td>3.0</td>\n",
       "      <td>4.0</td>\n",
       "      <td>1.0</td>\n",
       "      <td>1.0</td>\n",
       "      <td>2.5</td>\n",
       "    </tr>\n",
       "    <tr>\n",
       "      <th>5.0</th>\n",
       "      <td>2.0</td>\n",
       "      <td>2.0</td>\n",
       "      <td>2.0</td>\n",
       "      <td>2.0</td>\n",
       "      <td>2.0</td>\n",
       "      <td>2.0</td>\n",
       "      <td>4.0</td>\n",
       "      <td>4.0</td>\n",
       "      <td>5.5</td>\n",
       "    </tr>\n",
       "  </tbody>\n",
       "</table>\n",
       "</div>"
      ],
      "text/plain": [
       "          Electoral_Score  Liberal_Score  Participatory_Score  \\\n",
       "cluster2                                                        \n",
       "0.0                   4.0            4.0                  4.0   \n",
       "1.0                   1.0            1.0                  1.0   \n",
       "2.0                   6.0            6.0                  6.0   \n",
       "3.0                   5.0            5.0                  5.0   \n",
       "4.0                   3.0            3.0                  3.0   \n",
       "5.0                   2.0            2.0                  2.0   \n",
       "\n",
       "          Deliberative_Score  Egalitarian_Score  HDI_Score  protesterviolence  \\\n",
       "cluster2                                                                        \n",
       "0.0                      4.0                4.0        3.0                6.0   \n",
       "1.0                      1.0                1.0        1.0                5.0   \n",
       "2.0                      6.0                6.0        6.0                2.0   \n",
       "3.0                      5.0                5.0        5.0                3.0   \n",
       "4.0                      3.0                3.0        4.0                1.0   \n",
       "5.0                      2.0                2.0        2.0                4.0   \n",
       "\n",
       "          stateviolence  accomodation  \n",
       "cluster2                               \n",
       "0.0                 5.0           2.5  \n",
       "1.0                 6.0           2.5  \n",
       "2.0                 3.0           2.5  \n",
       "3.0                 2.0           5.5  \n",
       "4.0                 1.0           2.5  \n",
       "5.0                 4.0           5.5  "
      ]
     },
     "execution_count": 13,
     "metadata": {},
     "output_type": "execute_result"
    }
   ],
   "source": [
    "protests.groupby('cluster2')[num_features].mean().rank()"
   ]
  },
  {
   "cell_type": "code",
   "execution_count": 241,
   "metadata": {},
   "outputs": [
    {
     "data": {
      "text/plain": [
       "<Axes: xlabel='region', ylabel='count'>"
      ]
     },
     "execution_count": 241,
     "metadata": {},
     "output_type": "execute_result"
    },
    {
     "data": {
      "image/png": "[encoded data removed]",
      "text/plain": [
       "<Figure size 1000x400 with 1 Axes>"
      ]
     },
     "metadata": {},
     "output_type": "display_data"
    }
   ],
   "source": [
    "plt.figure(figsize=(10,4))\n",
    "sns.barplot(x='region', y='count', hue='region', data=protests['region'].value_counts().reset_index().sort_values('region'))"
   ]
  },
  {
   "cell_type": "code",
   "execution_count": 237,
   "metadata": {},
   "outputs": [
    {
     "data": {
      "text/plain": [
       "<Axes: xlabel='cluster2', ylabel='count'>"
      ]
     },
     "execution_count": 237,
     "metadata": {},
     "output_type": "execute_result"
    },
    {
     "data": {
      "image/png": "[encoded data removed]",
      "text/plain": [
       "<Figure size 1000x400 with 1 Axes>"
      ]
     },
     "metadata": {},
     "output_type": "display_data"
    }
   ],
   "source": [
    "plt.figure(figsize=(10,4))\n",
    "sns.barplot(x='cluster2', y='count', hue='region', data=protests.groupby('cluster2')['region'].value_counts().reset_index().sort_values('region'))"
   ]
  },
  {
   "cell_type": "code",
   "execution_count": 238,
   "metadata": {},
   "outputs": [
    {
     "data": {
      "text/html": [
       "<div>\n",
       "<style scoped>\n",
       "    .dataframe tbody tr th:only-of-type {\n",
       "        vertical-align: middle;\n",
       "    }\n",
       "\n",
       "    .dataframe tbody tr th {\n",
       "        vertical-align: top;\n",
       "    }\n",
       "\n",
       "    .dataframe thead th {\n",
       "        text-align: right;\n",
       "    }\n",
       "</style>\n",
       "<table border=\"1\" class=\"dataframe\">\n",
       "  <thead>\n",
       "    <tr style=\"text-align: right;\">\n",
       "      <th>cluster2</th>\n",
       "      <th>0.0</th>\n",
       "      <th>1.0</th>\n",
       "      <th>2.0</th>\n",
       "      <th>3.0</th>\n",
       "      <th>4.0</th>\n",
       "      <th>5.0</th>\n",
       "    </tr>\n",
       "    <tr>\n",
       "      <th>region</th>\n",
       "      <th></th>\n",
       "      <th></th>\n",
       "      <th></th>\n",
       "      <th></th>\n",
       "      <th></th>\n",
       "      <th></th>\n",
       "    </tr>\n",
       "  </thead>\n",
       "  <tbody>\n",
       "    <tr>\n",
       "      <th>Africa</th>\n",
       "      <td>0.416667</td>\n",
       "      <td>0.322709</td>\n",
       "      <td>0.016713</td>\n",
       "      <td>0.149495</td>\n",
       "      <td>0.259820</td>\n",
       "      <td>0.362225</td>\n",
       "    </tr>\n",
       "    <tr>\n",
       "      <th>Asia</th>\n",
       "      <td>0.185535</td>\n",
       "      <td>0.327490</td>\n",
       "      <td>0.011902</td>\n",
       "      <td>0.113131</td>\n",
       "      <td>0.305208</td>\n",
       "      <td>0.345408</td>\n",
       "    </tr>\n",
       "    <tr>\n",
       "      <th>Central America</th>\n",
       "      <td>0.080975</td>\n",
       "      <td>0.023506</td>\n",
       "      <td>0.011649</td>\n",
       "      <td>0.026263</td>\n",
       "      <td>0.060227</td>\n",
       "      <td>0.029754</td>\n",
       "    </tr>\n",
       "    <tr>\n",
       "      <th>Europe</th>\n",
       "      <td>0.093553</td>\n",
       "      <td>0.067729</td>\n",
       "      <td>0.796911</td>\n",
       "      <td>0.488889</td>\n",
       "      <td>0.125109</td>\n",
       "      <td>0.087969</td>\n",
       "    </tr>\n",
       "    <tr>\n",
       "      <th>MENA</th>\n",
       "      <td>0.008648</td>\n",
       "      <td>0.198008</td>\n",
       "      <td>0.004811</td>\n",
       "      <td>0.010101</td>\n",
       "      <td>0.104452</td>\n",
       "      <td>0.091850</td>\n",
       "    </tr>\n",
       "    <tr>\n",
       "      <th>North America</th>\n",
       "      <td>0.045597</td>\n",
       "      <td>0.048207</td>\n",
       "      <td>0.013928</td>\n",
       "      <td>0.040404</td>\n",
       "      <td>0.070119</td>\n",
       "      <td>0.032342</td>\n",
       "    </tr>\n",
       "    <tr>\n",
       "      <th>Oceania</th>\n",
       "      <td>0.005503</td>\n",
       "      <td>0.001594</td>\n",
       "      <td>0.000000</td>\n",
       "      <td>0.000000</td>\n",
       "      <td>0.003782</td>\n",
       "      <td>0.018111</td>\n",
       "    </tr>\n",
       "    <tr>\n",
       "      <th>South America</th>\n",
       "      <td>0.163522</td>\n",
       "      <td>0.010757</td>\n",
       "      <td>0.144087</td>\n",
       "      <td>0.171717</td>\n",
       "      <td>0.071283</td>\n",
       "      <td>0.032342</td>\n",
       "    </tr>\n",
       "  </tbody>\n",
       "</table>\n",
       "</div>"
      ],
      "text/plain": [
       "cluster2              0.0       1.0       2.0       3.0       4.0       5.0\n",
       "region                                                                     \n",
       "Africa           0.416667  0.322709  0.016713  0.149495  0.259820  0.362225\n",
       "Asia             0.185535  0.327490  0.011902  0.113131  0.305208  0.345408\n",
       "Central America  0.080975  0.023506  0.011649  0.026263  0.060227  0.029754\n",
       "Europe           0.093553  0.067729  0.796911  0.488889  0.125109  0.087969\n",
       "MENA             0.008648  0.198008  0.004811  0.010101  0.104452  0.091850\n",
       "North America    0.045597  0.048207  0.013928  0.040404  0.070119  0.032342\n",
       "Oceania          0.005503  0.001594  0.000000  0.000000  0.003782  0.018111\n",
       "South America    0.163522  0.010757  0.144087  0.171717  0.071283  0.032342"
      ]
     },
     "execution_count": 238,
     "metadata": {},
     "output_type": "execute_result"
    }
   ],
   "source": [
    "pd.crosstab(protests['region'], protests['cluster2'], normalize='columns')"
   ]
  },
  {
   "cell_type": "code",
   "execution_count": 23,
   "metadata": {},
   "outputs": [
    {
     "data": {
      "text/html": [
       "<div>\n",
       "<style scoped>\n",
       "    .dataframe tbody tr th:only-of-type {\n",
       "        vertical-align: middle;\n",
       "    }\n",
       "\n",
       "    .dataframe tbody tr th {\n",
       "        vertical-align: top;\n",
       "    }\n",
       "\n",
       "    .dataframe thead th {\n",
       "        text-align: right;\n",
       "    }\n",
       "</style>\n",
       "<table border=\"1\" class=\"dataframe\">\n",
       "  <thead>\n",
       "    <tr style=\"text-align: right;\">\n",
       "      <th>cluster2</th>\n",
       "      <th>0.0</th>\n",
       "      <th>1.0</th>\n",
       "      <th>2.0</th>\n",
       "      <th>3.0</th>\n",
       "      <th>4.0</th>\n",
       "      <th>5.0</th>\n",
       "    </tr>\n",
       "    <tr>\n",
       "      <th>region</th>\n",
       "      <th></th>\n",
       "      <th></th>\n",
       "      <th></th>\n",
       "      <th></th>\n",
       "      <th></th>\n",
       "      <th></th>\n",
       "    </tr>\n",
       "  </thead>\n",
       "  <tbody>\n",
       "    <tr>\n",
       "      <th>Africa</th>\n",
       "      <td>1.953135</td>\n",
       "      <td>1.512707</td>\n",
       "      <td>0.078343</td>\n",
       "      <td>0.700761</td>\n",
       "      <td>1.217911</td>\n",
       "      <td>1.697939</td>\n",
       "    </tr>\n",
       "    <tr>\n",
       "      <th>Asia</th>\n",
       "      <td>0.931493</td>\n",
       "      <td>1.644193</td>\n",
       "      <td>0.059754</td>\n",
       "      <td>0.567986</td>\n",
       "      <td>1.532324</td>\n",
       "      <td>1.734149</td>\n",
       "    </tr>\n",
       "    <tr>\n",
       "      <th>Central America</th>\n",
       "      <td>2.232823</td>\n",
       "      <td>0.648160</td>\n",
       "      <td>0.321200</td>\n",
       "      <td>0.724173</td>\n",
       "      <td>1.660715</td>\n",
       "      <td>0.820451</td>\n",
       "    </tr>\n",
       "    <tr>\n",
       "      <th>Europe</th>\n",
       "      <td>0.278599</td>\n",
       "      <td>0.201695</td>\n",
       "      <td>2.373175</td>\n",
       "      <td>1.455896</td>\n",
       "      <td>0.372571</td>\n",
       "      <td>0.261969</td>\n",
       "    </tr>\n",
       "    <tr>\n",
       "      <th>MENA</th>\n",
       "      <td>0.111792</td>\n",
       "      <td>2.559696</td>\n",
       "      <td>0.062197</td>\n",
       "      <td>0.130578</td>\n",
       "      <td>1.350270</td>\n",
       "      <td>1.187366</td>\n",
       "    </tr>\n",
       "    <tr>\n",
       "      <th>North America</th>\n",
       "      <td>1.090481</td>\n",
       "      <td>1.152893</td>\n",
       "      <td>0.333083</td>\n",
       "      <td>0.966278</td>\n",
       "      <td>1.676930</td>\n",
       "      <td>0.773460</td>\n",
       "    </tr>\n",
       "    <tr>\n",
       "      <th>Oceania</th>\n",
       "      <td>1.800976</td>\n",
       "      <td>0.521535</td>\n",
       "      <td>0.000000</td>\n",
       "      <td>0.000000</td>\n",
       "      <td>1.237830</td>\n",
       "      <td>5.927146</td>\n",
       "    </tr>\n",
       "    <tr>\n",
       "      <th>South America</th>\n",
       "      <td>1.754581</td>\n",
       "      <td>0.115422</td>\n",
       "      <td>1.546046</td>\n",
       "      <td>1.842515</td>\n",
       "      <td>0.764863</td>\n",
       "      <td>0.347023</td>\n",
       "    </tr>\n",
       "  </tbody>\n",
       "</table>\n",
       "</div>"
      ],
      "text/plain": [
       "cluster2              0.0       1.0       2.0       3.0       4.0       5.0\n",
       "region                                                                     \n",
       "Africa           1.953135  1.512707  0.078343  0.700761  1.217911  1.697939\n",
       "Asia             0.931493  1.644193  0.059754  0.567986  1.532324  1.734149\n",
       "Central America  2.232823  0.648160  0.321200  0.724173  1.660715  0.820451\n",
       "Europe           0.278599  0.201695  2.373175  1.455896  0.372571  0.261969\n",
       "MENA             0.111792  2.559696  0.062197  0.130578  1.350270  1.187366\n",
       "North America    1.090481  1.152893  0.333083  0.966278  1.676930  0.773460\n",
       "Oceania          1.800976  0.521535  0.000000  0.000000  1.237830  5.927146\n",
       "South America    1.754581  0.115422  1.546046  1.842515  0.764863  0.347023"
      ]
     },
     "execution_count": 23,
     "metadata": {},
     "output_type": "execute_result"
    }
   ],
   "source": [
    "pd.crosstab(protests['region'], protests['cluster2'], normalize='index').div(protests['cluster2'].value_counts(normalize=True))"
   ]
  },
  {
   "cell_type": "code",
   "execution_count": 14,
   "metadata": {},
   "outputs": [
    {
     "data": {
      "text/plain": [
       "<Axes: xlabel='region'>"
      ]
     },
     "execution_count": 14,
     "metadata": {},
     "output_type": "execute_result"
    },
    {
     "data": {
      "image/png": "[encoded data removed]",
      "text/plain": [
       "<Figure size 1200x500 with 1 Axes>"
      ]
     },
     "metadata": {},
     "output_type": "display_data"
    }
   ],
   "source": [
    "pd.crosstab(protests['region'], protests['cluster2'], normalize='index').plot.bar(figsize=(12,5))"
   ]
  },
  {
   "cell_type": "code",
   "execution_count": null,
   "metadata": {},
   "outputs": [],
   "source": []
  }
 ],
 "metadata": {
  "kernelspec": {
   "display_name": "Python 3",
   "language": "python",
   "name": "python3"
  },
  "language_info": {
   "codemirror_mode": {
    "name": "ipython",
    "version": 3
   },
   "file_extension": ".py",
   "mimetype": "text/x-python",
   "name": "python",
   "nbconvert_exporter": "python",
   "pygments_lexer": "ipython3",
   "version": "3.11.6"
  }
 },
 "nbformat": 4,
 "nbformat_minor": 2
}

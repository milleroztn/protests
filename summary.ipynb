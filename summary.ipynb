{
 "cells": [
  {
   "cell_type": "markdown",
   "metadata": {},
   "source": [
    "# Table of Contents\n",
    "- [Data Summary](#data-summary)\n",
    "    - [Violence Summary](#violence-summary)\n",
    "    - [Accomodation Summary](#accomodation-summary)\n",
    "    - [Violence by Region](#violence-by-region)"
   ]
  },
  {
   "cell_type": "markdown",
   "metadata": {},
   "source": [
    "# Data Summary"
   ]
  },
  {
   "cell_type": "markdown",
   "metadata": {},
   "source": [
    "The protest dataset has info about 12,652 different protests against government from 132 countries between 1990 and 2019. The average number of protests per year has nearly doubled since 2010 (from 343 before 2010 to 605 after).\n",
    "\n",
    "<table>\n",
    "<td>\n",
    "<img src=\"./output/images/year_dist.jpg\" alt=\"Protests per Year\"/>\n",
    "</td>\n",
    "</table>\n",
    "\n",
    "The plurality of protests (33 percent) are from Europe; only 38 are from Oceania. We will use the distribution of protests across regions as a baseline for comparing statistics across clusters. We expect that any measurements will tend be more prevalent in Europe than other places solely because there are more protests recorded from Europe, for example.\n",
    "\n",
    "<table>\n",
    "  <tr>\n",
    "    <td><img src=\"./output/images/regions_dist.jpg\" alt=\"Distribution of Regions\"\"/></td>\n",
    "    <td><img src=\"https://imgs.xkcd.com/comics/heatmap.png\" alt=\"xkcd: heatmap\"/></td>\n",
    "  </tr>\n",
    "  <tr>\n",
    "    <td></td>\n",
    "    <td style=\"text-align:center;\"><p>(relevant xkcd comic)</p></td>\n",
    "  </tr>\n",
    "</table>"
   ]
  },
  {
   "cell_type": "markdown",
   "metadata": {},
   "source": [
    "The Varieties of Democracy variables are different components of measuring each countries liberal democracy level at the time of a protest. For each data point, these five scores tend to be highly correlated (r > 0.90). To limit the number of feature inputs, I combine these into a single measure called `libdem` which is the average of the five scores. In contrast, the HDI score is much less correlated with these scores and it is left to be included in models as a separate measure. HDI is most correlated with the Egalitarian component (r = 0.70).\n",
    "\n",
    "<table>\n",
    "<td>\n",
    "<img src=\"./output/images/corrs.jpg\" alt=\"Correlations\"/>\n",
    "</td>\n",
    "</table>"
   ]
  },
  {
   "cell_type": "markdown",
   "metadata": {},
   "source": [
    "To examine state response patterns, I create an indicator `stateviolence`, which is 1 if any `stateresponse*` variable is 'arrests', 'beatings', 'crowd dispersal', 'shootings', or 'killings'; and I create an indicator `accomodation` if any `stateresponse*` variable is 'accomodation'.\n"
   ]
  },
  {
   "cell_type": "markdown",
   "metadata": {},
   "source": [
    "\n",
    "## Violence Summary\n",
    "\n",
    " - 56 percent of all protests were completely peaceful. Neither protesters nor the state engaged in any violence. \n",
    " - 26 percent of protests had some level of protester violence.\n",
    "    - Of those, 86 percent were met with state violence.\n",
    " - 18 percent of protests were peaceful protests that were met with state violence. A total of 40 percent had state violence, and only about half of these were in response to protester violence.\n",
    "\n",
    " !['Distribution of Violence'](./output/images/violence_dist.jpg)\n",
    "\n",
    " ## Accomodation Summary\n",
    "\n",
    " - Only 10 percent of protests led to accomodations by the government.\n",
    "\n",
    " The distribution of violence for protests that led to accomodations is similar to the overall distribution of violence. Of the protests that led to accomodations:\n",
    "\n",
    " - 60 percent were completely peaceful,\n",
    " - 28 percent had protestor violence,\n",
    "    - (75 percent of these were met with state violence), and\n",
    " - 12 percent had state violence to a peaceful protest.\n",
    "\n",
    "<table>\n",
    "  <tr>\n",
    "    <td><img src=\"./output/images/violence_dist_2.jpg\" alt=\"Distribution of Violence, Accomodated\"\"/></td>\n",
    "    <td><img src=\"./misc/same_picture.png\" alt=\"Same Picture\" width=400/></td>\n",
    "  </tr>\n",
    "  <tr>\n",
    "    <td></td>\n",
    "    <td style=\"text-align:center;\"><p>I mean, they're not. But they are about the same.</p></td>\n",
    "  </tr>\n",
    "</table>"
   ]
  },
  {
   "cell_type": "markdown",
   "metadata": {},
   "source": [
    "## Violence by Region\n",
    "\n",
    "Overall, Africa and MENA have the highest rates of violence in protests. The violence in MENA is exceptional because it consists of a much higher-than-average level of state violence against peaceful protesters. North and Central America, on the other hand, have a higher-than-average rate of protester-only violence.\n",
    "\n",
    "Europe and South America have the highest rates of non-violent protests. In Europe, the rates of all types of violence are lower than average; but in South America, the rate of state-only violence is the same as in other regions, despite the overall lower rate of violence. So both MENA and South America have higher-than-average levels of state-only violence.\n",
    "\n",
    "Oceania has the lowest rate of state-only violence (and also the highest rate of accomodations).\n",
    "\n",
    "<table>\n",
    "  <tr>\n",
    "    <td><img src=\"./output/images/violence_region3.jpg\" alt=\"Violence by Region\"/></td>\n",
    "    <td><img src=\"./output/images/accomodation2.jpg\" alt=\"Accomodations\" width=400/></td>\n",
    "  </tr>\n",
    "</table>"
   ]
  },
  {
   "cell_type": "markdown",
   "metadata": {},
   "source": [
    "# K Means Clustering"
   ]
  },
  {
   "cell_type": "markdown",
   "metadata": {},
   "source": [
    "We have 12,652 protests that we want to cluster into groups based on five variables: Region, Violence, Liberal Democracy Score, HDI Score, and whether a protest resulted in state accomodations. Region has eight categories and Violence has four. So we have a total of 15 features by which to group our protests.\n",
    "\n",
    "Graphing the within-cluster sum of squares (WCSS) for each possible number of clusters, we can see pretty sharp elbow at 3 clusters.\n",
    "\n",
    "<table>\n",
    "  <tr>\n",
    "    <td><img src=\"./output/images/howmanyk.jpg\" alt=\"How Many K?\"/></td>\n",
    "    <td><img src=\"./misc/elbow.JPG\" alt=\"Sharp Elbow\" width=400/></td>\n",
    "  </tr>\n",
    "  <tr>\n",
    "    <td></td>\n",
    "    <td style=\"text-align:center;\"><p>That elbow is sharp!</p></td>\n",
    "  </tr>\n",
    "</table>"
   ]
  },
  {
   "cell_type": "markdown",
   "metadata": {},
   "source": [
    "So we fit the three-means clustering model to our data, and we end up with a Silhouette Score of about 0.39. Just over half of our protests (56 percent) fall into the same cluster (labeled `0` here). Cluster `1` has exactly its fair share of protests (34 percent), and the rest (10 percent) are on their own in Cluster `2`.\n",
    "\n",
    "<img src=\"./output/images/clusters.jpg\" alt=\"Distribution of Clusters\" width=400/>\n",
    "\n",
    "Each cluster has an even distribution of years, indicating that whatever makes one protest similar or distinct with this data is relatively consistent since 1990. \n",
    "\n",
    "There is, however, some clumping of regions within our clusters. Europe and South America are both underreprestented in Cluster `0` and overrepresented in Cluster `1`. In fact, Cluster `1` is almost exclusively (93 percent) made up of European and South American protests. Cluster `0` has just a bit less of these two regions in favor of the others, and Cluster `2` has a distribution that is about the same as the general distribution of regions. \n",
    "\n",
    "On the right side, we see these same patterns (Europe and South America are more in Cluster `1`, less in others). We also see that Oceania is overrepresented in Cluster `2` whereas all the other regions that have fewer protests in Cluster `1` tend to have more in Cluster `0`.\n",
    "\n",
    "In summary, Cluster `1` is a bunch of Europe and South America; everyone else moved a bit from Cluster `1` to Cluster `0`, except Oceania moved from Cluster `1` to Cluster `2`.\n",
    "\n",
    "<table>\n",
    "  <tr>\n",
    "    <td><img src=\"./output/images/regions_cluster.jpg\" alt=\"Distribution of Regions, by Cluster\"/></td>\n",
    "    <td><img src=\"./output/images/clusters_region.jpg\" alt=\"Distribution of Clusters, by Region\"/></td>\n",
    "  </tr>\n",
    "</table>"
   ]
  },
  {
   "cell_type": "markdown",
   "metadata": {},
   "source": [
    "Now we see that Cluster `2` has all the protests with accomodations. So the distribution of regions for protests that have accomodations matches the overall distribution of regions--except that Oceania tends to have more accomodations (which matches what we already knew about Oceania). We also see that the average Libdem and HDI Scores for this Cluster matches the overal average.\n",
    "\n",
    "Cluster `0` has the lower-than-average Libdem and HDI Scores; Cluster `1`, the higher.\n"
   ]
  },
  {
   "cell_type": "markdown",
   "metadata": {},
   "source": [
    "<img src=\"./output/images/cluster_means2.jpg\" alt=\"Cluster Means\"/>"
   ]
  },
  {
   "cell_type": "markdown",
   "metadata": {},
   "source": [
    "Finally, we can look at the levels of violence for these clusters. Cluster `0` has more violence overall; Cluster `1` has more non-violent protests; and Cluster `2` has a lower-than-normal percent of state-only violence, and more protester-only violence. This is really the main variable that sets Cluster `2` apart: more protester-only violence."
   ]
  },
  {
   "cell_type": "markdown",
   "metadata": {},
   "source": [
    "<img src=\"./output/images/violence_cluster.jpg\" alt=\"Distribution of Violence, by Cluster\"/>"
   ]
  },
  {
   "cell_type": "markdown",
   "metadata": {},
   "source": [
    "## Clusters Summary\n",
    "\n",
    "In summary, we have three clusters of protests:\n",
    "- Protests that have more violence from both protesters and the state.\n",
    "    - Protests tend to be more violent when the government has lower Liberal Democracy and HDI Scores.\n",
    "    - These protests tend to happen in regions that are not Europe or South America.\n",
    "    - These are the most common protests.\n",
    "- Protests with less violence.\n",
    "    - These protests tend to happen in governments with higher Liberal Democracy and HDI Scores, and more often in Europe and South America.\n",
    "    - These protests are more peaceful, but also do not end with state accomodations.\n",
    "- Protests that have state accomodations.\n",
    "    - These protests tend to have higher levels of protester-only violence. \n",
    "    - These protests tend to happen in all kinds of governments, in all regions--except more often in Oceania."
   ]
  },
  {
   "cell_type": "markdown",
   "metadata": {},
   "source": []
  },
  {
   "cell_type": "markdown",
   "metadata": {},
   "source": []
  }
 ],
 "metadata": {
  "kernelspec": {
   "display_name": "Python 3",
   "language": "python",
   "name": "python3"
  },
  "language_info": {
   "codemirror_mode": {
    "name": "ipython",
    "version": 3
   },
   "file_extension": ".py",
   "mimetype": "text/x-python",
   "name": "python",
   "nbconvert_exporter": "python",
   "pygments_lexer": "ipython3",
   "version": "3.11.6"
  }
 },
 "nbformat": 4,
 "nbformat_minor": 2
}

{
 "cells": [
  {
   "cell_type": "markdown",
   "metadata": {},
   "source": [
    "# Data Summary"
   ]
  },
  {
   "cell_type": "markdown",
   "metadata": {},
   "source": [
    "The protest dataset has info about 12,652 different protests against government from 132 countries between 1990 and 2019. The average number of protests per year has nearly doubled since 2010 (from 343 before 2010 to 605 after).\n",
    "\n",
    "<table>\n",
    "<td>\n",
    "<img src=\"./output/images/year_dist.jpg\" alt=\"Protests per Year\"/>\n",
    "</td>\n",
    "</table>\n",
    "\n",
    "The plurality of protests (33 percent) are from Europe; only 38 are from Oceania. We will use the distribution of protests across regions as a baseline for comparing statistics across clusters. We expect that any measurements will tend be more prevalent in Europe than other places solely because there are more protests recorded from Europe, for example.\n",
    "\n",
    "<table>\n",
    "  <tr>\n",
    "    <td><img src=\"./output/images/regions_dist.jpg\" alt=\"Distribution of Regions\"\"/></td>\n",
    "    <td><img src=\"https://imgs.xkcd.com/comics/heatmap.png\" alt=\"xkcd: heatmap\"/></td>\n",
    "  </tr>\n",
    "  <tr>\n",
    "    <td></td>\n",
    "    <td style=\"text-align:center;\"><p>(relevant xkcd comic)</p></td>\n",
    "  </tr>\n",
    "</table>"
   ]
  },
  {
   "cell_type": "markdown",
   "metadata": {},
   "source": [
    "The Varieties of Democracy variables are different components of measuring each countries liberal democracy level at the time of a protest. For each data point, these five scores tend to be highly correlated (r > 0.90). To limit the number of feature inputs, I combine these into a single measure called `libdem` which is the average of the five scores. In contrast, the HDI score is much less correlated with these scores and it is left to be included in models as a separate measure. HDI is most correlated with the Egalitarian component (r = 0.70)."
   ]
  },
  {
   "cell_type": "code",
   "execution_count": 1,
   "metadata": {
    "tags": [
     "ignore_code"
    ]
   },
   "outputs": [
    {
     "data": {
      "text/html": [
       "<div>\n",
       "<style scoped>\n",
       "    .dataframe tbody tr th:only-of-type {\n",
       "        vertical-align: middle;\n",
       "    }\n",
       "\n",
       "    .dataframe tbody tr th {\n",
       "        vertical-align: top;\n",
       "    }\n",
       "\n",
       "    .dataframe thead th {\n",
       "        text-align: right;\n",
       "    }\n",
       "</style>\n",
       "<table border=\"1\" class=\"dataframe\">\n",
       "  <thead>\n",
       "    <tr style=\"text-align: right;\">\n",
       "      <th></th>\n",
       "      <th>libdem</th>\n",
       "      <th>Electoral_Score</th>\n",
       "      <th>Liberal_Score</th>\n",
       "      <th>Participatory_Score</th>\n",
       "      <th>Deliberative_Score</th>\n",
       "      <th>Egalitarian_Score</th>\n",
       "      <th>HDI_Score</th>\n",
       "    </tr>\n",
       "  </thead>\n",
       "  <tbody>\n",
       "    <tr>\n",
       "      <th>libdem</th>\n",
       "      <td>1.00</td>\n",
       "      <td>0.99</td>\n",
       "      <td>0.99</td>\n",
       "      <td>0.99</td>\n",
       "      <td>0.99</td>\n",
       "      <td>0.98</td>\n",
       "      <td>0.65</td>\n",
       "    </tr>\n",
       "    <tr>\n",
       "      <th>Electoral_Score</th>\n",
       "      <td>0.99</td>\n",
       "      <td>1.00</td>\n",
       "      <td>0.98</td>\n",
       "      <td>0.98</td>\n",
       "      <td>0.96</td>\n",
       "      <td>0.94</td>\n",
       "      <td>0.60</td>\n",
       "    </tr>\n",
       "    <tr>\n",
       "      <th>Liberal_Score</th>\n",
       "      <td>0.99</td>\n",
       "      <td>0.98</td>\n",
       "      <td>1.00</td>\n",
       "      <td>0.98</td>\n",
       "      <td>0.98</td>\n",
       "      <td>0.97</td>\n",
       "      <td>0.65</td>\n",
       "    </tr>\n",
       "    <tr>\n",
       "      <th>Participatory_Score</th>\n",
       "      <td>0.99</td>\n",
       "      <td>0.98</td>\n",
       "      <td>0.98</td>\n",
       "      <td>1.00</td>\n",
       "      <td>0.96</td>\n",
       "      <td>0.95</td>\n",
       "      <td>0.63</td>\n",
       "    </tr>\n",
       "    <tr>\n",
       "      <th>Deliberative_Score</th>\n",
       "      <td>0.99</td>\n",
       "      <td>0.96</td>\n",
       "      <td>0.98</td>\n",
       "      <td>0.96</td>\n",
       "      <td>1.00</td>\n",
       "      <td>0.95</td>\n",
       "      <td>0.62</td>\n",
       "    </tr>\n",
       "    <tr>\n",
       "      <th>Egalitarian_Score</th>\n",
       "      <td>0.98</td>\n",
       "      <td>0.94</td>\n",
       "      <td>0.97</td>\n",
       "      <td>0.95</td>\n",
       "      <td>0.95</td>\n",
       "      <td>1.00</td>\n",
       "      <td>0.71</td>\n",
       "    </tr>\n",
       "    <tr>\n",
       "      <th>HDI_Score</th>\n",
       "      <td>0.65</td>\n",
       "      <td>0.60</td>\n",
       "      <td>0.65</td>\n",
       "      <td>0.63</td>\n",
       "      <td>0.62</td>\n",
       "      <td>0.71</td>\n",
       "      <td>1.00</td>\n",
       "    </tr>\n",
       "  </tbody>\n",
       "</table>\n",
       "</div>"
      ],
      "text/plain": [
       "                     libdem  Electoral_Score  Liberal_Score  \\\n",
       "libdem                 1.00             0.99           0.99   \n",
       "Electoral_Score        0.99             1.00           0.98   \n",
       "Liberal_Score          0.99             0.98           1.00   \n",
       "Participatory_Score    0.99             0.98           0.98   \n",
       "Deliberative_Score     0.99             0.96           0.98   \n",
       "Egalitarian_Score      0.98             0.94           0.97   \n",
       "HDI_Score              0.65             0.60           0.65   \n",
       "\n",
       "                     Participatory_Score  Deliberative_Score  \\\n",
       "libdem                              0.99                0.99   \n",
       "Electoral_Score                     0.98                0.96   \n",
       "Liberal_Score                       0.98                0.98   \n",
       "Participatory_Score                 1.00                0.96   \n",
       "Deliberative_Score                  0.96                1.00   \n",
       "Egalitarian_Score                   0.95                0.95   \n",
       "HDI_Score                           0.63                0.62   \n",
       "\n",
       "                     Egalitarian_Score  HDI_Score  \n",
       "libdem                            0.98       0.65  \n",
       "Electoral_Score                   0.94       0.60  \n",
       "Liberal_Score                     0.97       0.65  \n",
       "Participatory_Score               0.95       0.63  \n",
       "Deliberative_Score                0.95       0.62  \n",
       "Egalitarian_Score                 1.00       0.71  \n",
       "HDI_Score                         0.71       1.00  "
      ]
     },
     "execution_count": 1,
     "metadata": {},
     "output_type": "execute_result"
    }
   ],
   "source": [
    "import pandas as pd\n",
    "protests = pd.read_csv('./local/data/full.csv')\n",
    "protests[['libdem','Electoral_Score', 'Liberal_Score', 'Participatory_Score', 'Deliberative_Score', 'Egalitarian_Score','HDI_Score']].corr(method='pearson').round(2)"
   ]
  },
  {
   "cell_type": "markdown",
   "metadata": {},
   "source": [
    "To examine state response patterns, I create an indicator `stateviolence`, which is 1 if any `stateresponse*` variable is 'arrests', 'beatings', 'crowd dispersal', 'shootings', or 'killings'; and I create an indicator `accomodation` if any `stateresponse*` variable is 'accomodation'.\n"
   ]
  },
  {
   "cell_type": "markdown",
   "metadata": {},
   "source": [
    "\n",
    "## Violence Summary\n",
    "\n",
    " - 56 percent of all protests were completely peaceful. Neither protesters nor the state engaged in any violence. \n",
    " - 26 percent of protests had some level of protester violence.\n",
    "    - Of those, 86 percent were met with state violence.\n",
    " - 18 percent of protests were peaceful protests that were met with state violence. A total of 40 percent had state violence, and only about half of these were in response to protester violence.\n",
    "\n",
    " !['Distribution of Violence'](./output/images/violence_dist.jpg)\n",
    "\n",
    " ## Accomodation Summary\n",
    "\n",
    " - Only 10 percent of protests led to accomodations by the government.\n",
    "\n",
    " The distribution of violence for protests that led to accomodations is similar to the overall distribution of violence. Of the protests that led to accomodations:\n",
    "\n",
    " - 60 percent were completely peaceful,\n",
    " - 28 percent had protestor violence,\n",
    "    - (75 percent of these were met with state violence), and\n",
    " - 12 percent had state violence to a peaceful protest.\n",
    "\n",
    "<table>\n",
    "  <tr>\n",
    "    <td><img src=\"./output/images/violence_dist_2.jpg\" alt=\"Distribution of Violence, Accomodated\"\"/></td>\n",
    "    <td><img src=\"./misc/same_picture.png\" alt=\"Same Picture\" width=300/></td>\n",
    "  </tr>\n",
    "  <tr>\n",
    "    <td></td>\n",
    "    <td style=\"text-align:center;\"><p>I mean, they're not. But they are about the same.</p></td>\n",
    "  </tr>\n",
    "</table>"
   ]
  },
  {
   "cell_type": "markdown",
   "metadata": {},
   "source": [
    "## Violence by Region\n",
    "\n",
    "By region:\n",
    "Overall Africa and MENA have highest rate of violence\n",
    "    MENA has average protester violence, but highest state violence\n",
    "and Europe has lowest\n",
    "    Europe and South America have lower than average rate of protester violence\n",
    "\n",
    "Both MENA and South America have higher than average rate of a violent state response\n",
    "North America is far less likely to have a protest met with state violence\n",
    "MENA has the highest rate of violent state response to peaceful protest\n",
    "\n",
    "!['Violence by Region'](./output/images/violence_region.jpg)\n",
    "\n",
    "Oceania has by far the highest rate of state accomodations"
   ]
  },
  {
   "cell_type": "markdown",
   "metadata": {},
   "source": [
    "\n",
    "\n",
    "\n",
    " 'protesterviolence',\n",
    "       'protesterdemand1', 'protesterdemand2', 'protesterdemand3',\n",
    "       'protesterdemand4', 'stateresponse1', 'stateresponse2',\n",
    "       'stateresponse3', 'stateresponse4', 'stateresponse5', 'stateresponse6',\n",
    "       'stateresponse7', 'Electoral_Score', 'Liberal_Score',\n",
    "       'Participatory_Score', 'Deliberative_Score', 'Egalitarian_Score',\n",
    "       'HDI_Score', 'violenceStatus', 'predicted_prob', 'accomodation',\n",
    "       'stateviolence'"
   ]
  },
  {
   "cell_type": "markdown",
   "metadata": {},
   "source": []
  }
 ],
 "metadata": {
  "kernelspec": {
   "display_name": "Python 3",
   "language": "python",
   "name": "python3"
  },
  "language_info": {
   "codemirror_mode": {
    "name": "ipython",
    "version": 3
   },
   "file_extension": ".py",
   "mimetype": "text/x-python",
   "name": "python",
   "nbconvert_exporter": "python",
   "pygments_lexer": "ipython3",
   "version": "3.11.6"
  }
 },
 "nbformat": 4,
 "nbformat_minor": 2
}
